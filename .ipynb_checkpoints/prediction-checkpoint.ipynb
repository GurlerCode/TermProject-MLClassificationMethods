{
 "cells": [
  {
   "cell_type": "code",
   "execution_count": 29,
   "id": "30e8a0e0-3cb4-4e40-bfe0-68c929a94f64",
   "metadata": {},
   "outputs": [],
   "source": [
    "import numpy as np \n",
    "import pandas as pd\n",
    "from sklearn.metrics import accuracy_score\n",
    "\n",
    "import warnings\n",
    "warnings.simplefilter(\"ignore\")"
   ]
  },
  {
   "cell_type": "code",
   "execution_count": 30,
   "id": "3037a5f8-ec20-487e-9dc0-9c47ddb8e41c",
   "metadata": {},
   "outputs": [],
   "source": [
    "data = pd.read_csv('train.csv')"
   ]
  },
  {
   "cell_type": "code",
   "execution_count": 31,
   "id": "1943a9ab-847b-443e-a1a4-06d3610e4988",
   "metadata": {},
   "outputs": [
    {
     "data": {
      "text/html": [
       "<div>\n",
       "<style scoped>\n",
       "    .dataframe tbody tr th:only-of-type {\n",
       "        vertical-align: middle;\n",
       "    }\n",
       "\n",
       "    .dataframe tbody tr th {\n",
       "        vertical-align: top;\n",
       "    }\n",
       "\n",
       "    .dataframe thead th {\n",
       "        text-align: right;\n",
       "    }\n",
       "</style>\n",
       "<table border=\"1\" class=\"dataframe\">\n",
       "  <thead>\n",
       "    <tr style=\"text-align: right;\">\n",
       "      <th></th>\n",
       "      <th>Unnamed: 0</th>\n",
       "      <th>id</th>\n",
       "      <th>Gender</th>\n",
       "      <th>Customer Type</th>\n",
       "      <th>Age</th>\n",
       "      <th>Type of Travel</th>\n",
       "      <th>Class</th>\n",
       "      <th>Flight Distance</th>\n",
       "      <th>Inflight wifi service</th>\n",
       "      <th>Departure/Arrival time convenient</th>\n",
       "      <th>...</th>\n",
       "      <th>Inflight entertainment</th>\n",
       "      <th>On-board service</th>\n",
       "      <th>Leg room service</th>\n",
       "      <th>Baggage handling</th>\n",
       "      <th>Checkin service</th>\n",
       "      <th>Inflight service</th>\n",
       "      <th>Cleanliness</th>\n",
       "      <th>Departure Delay in Minutes</th>\n",
       "      <th>Arrival Delay in Minutes</th>\n",
       "      <th>satisfaction</th>\n",
       "    </tr>\n",
       "  </thead>\n",
       "  <tbody>\n",
       "    <tr>\n",
       "      <th>0</th>\n",
       "      <td>0</td>\n",
       "      <td>70172</td>\n",
       "      <td>Male</td>\n",
       "      <td>Loyal Customer</td>\n",
       "      <td>13</td>\n",
       "      <td>Personal Travel</td>\n",
       "      <td>Eco Plus</td>\n",
       "      <td>460</td>\n",
       "      <td>3</td>\n",
       "      <td>4</td>\n",
       "      <td>...</td>\n",
       "      <td>5</td>\n",
       "      <td>4</td>\n",
       "      <td>3</td>\n",
       "      <td>4</td>\n",
       "      <td>4</td>\n",
       "      <td>5</td>\n",
       "      <td>5</td>\n",
       "      <td>25</td>\n",
       "      <td>18.0</td>\n",
       "      <td>neutral or dissatisfied</td>\n",
       "    </tr>\n",
       "    <tr>\n",
       "      <th>1</th>\n",
       "      <td>1</td>\n",
       "      <td>5047</td>\n",
       "      <td>Male</td>\n",
       "      <td>disloyal Customer</td>\n",
       "      <td>25</td>\n",
       "      <td>Business travel</td>\n",
       "      <td>Business</td>\n",
       "      <td>235</td>\n",
       "      <td>3</td>\n",
       "      <td>2</td>\n",
       "      <td>...</td>\n",
       "      <td>1</td>\n",
       "      <td>1</td>\n",
       "      <td>5</td>\n",
       "      <td>3</td>\n",
       "      <td>1</td>\n",
       "      <td>4</td>\n",
       "      <td>1</td>\n",
       "      <td>1</td>\n",
       "      <td>6.0</td>\n",
       "      <td>neutral or dissatisfied</td>\n",
       "    </tr>\n",
       "    <tr>\n",
       "      <th>2</th>\n",
       "      <td>2</td>\n",
       "      <td>110028</td>\n",
       "      <td>Female</td>\n",
       "      <td>Loyal Customer</td>\n",
       "      <td>26</td>\n",
       "      <td>Business travel</td>\n",
       "      <td>Business</td>\n",
       "      <td>1142</td>\n",
       "      <td>2</td>\n",
       "      <td>2</td>\n",
       "      <td>...</td>\n",
       "      <td>5</td>\n",
       "      <td>4</td>\n",
       "      <td>3</td>\n",
       "      <td>4</td>\n",
       "      <td>4</td>\n",
       "      <td>4</td>\n",
       "      <td>5</td>\n",
       "      <td>0</td>\n",
       "      <td>0.0</td>\n",
       "      <td>satisfied</td>\n",
       "    </tr>\n",
       "    <tr>\n",
       "      <th>3</th>\n",
       "      <td>3</td>\n",
       "      <td>24026</td>\n",
       "      <td>Female</td>\n",
       "      <td>Loyal Customer</td>\n",
       "      <td>25</td>\n",
       "      <td>Business travel</td>\n",
       "      <td>Business</td>\n",
       "      <td>562</td>\n",
       "      <td>2</td>\n",
       "      <td>5</td>\n",
       "      <td>...</td>\n",
       "      <td>2</td>\n",
       "      <td>2</td>\n",
       "      <td>5</td>\n",
       "      <td>3</td>\n",
       "      <td>1</td>\n",
       "      <td>4</td>\n",
       "      <td>2</td>\n",
       "      <td>11</td>\n",
       "      <td>9.0</td>\n",
       "      <td>neutral or dissatisfied</td>\n",
       "    </tr>\n",
       "    <tr>\n",
       "      <th>4</th>\n",
       "      <td>4</td>\n",
       "      <td>119299</td>\n",
       "      <td>Male</td>\n",
       "      <td>Loyal Customer</td>\n",
       "      <td>61</td>\n",
       "      <td>Business travel</td>\n",
       "      <td>Business</td>\n",
       "      <td>214</td>\n",
       "      <td>3</td>\n",
       "      <td>3</td>\n",
       "      <td>...</td>\n",
       "      <td>3</td>\n",
       "      <td>3</td>\n",
       "      <td>4</td>\n",
       "      <td>4</td>\n",
       "      <td>3</td>\n",
       "      <td>3</td>\n",
       "      <td>3</td>\n",
       "      <td>0</td>\n",
       "      <td>0.0</td>\n",
       "      <td>satisfied</td>\n",
       "    </tr>\n",
       "  </tbody>\n",
       "</table>\n",
       "<p>5 rows × 25 columns</p>\n",
       "</div>"
      ],
      "text/plain": [
       "   Unnamed: 0      id  Gender      Customer Type  Age   Type of Travel  \\\n",
       "0           0   70172    Male     Loyal Customer   13  Personal Travel   \n",
       "1           1    5047    Male  disloyal Customer   25  Business travel   \n",
       "2           2  110028  Female     Loyal Customer   26  Business travel   \n",
       "3           3   24026  Female     Loyal Customer   25  Business travel   \n",
       "4           4  119299    Male     Loyal Customer   61  Business travel   \n",
       "\n",
       "      Class  Flight Distance  Inflight wifi service  \\\n",
       "0  Eco Plus              460                      3   \n",
       "1  Business              235                      3   \n",
       "2  Business             1142                      2   \n",
       "3  Business              562                      2   \n",
       "4  Business              214                      3   \n",
       "\n",
       "   Departure/Arrival time convenient  ...  Inflight entertainment  \\\n",
       "0                                  4  ...                       5   \n",
       "1                                  2  ...                       1   \n",
       "2                                  2  ...                       5   \n",
       "3                                  5  ...                       2   \n",
       "4                                  3  ...                       3   \n",
       "\n",
       "   On-board service  Leg room service  Baggage handling  Checkin service  \\\n",
       "0                 4                 3                 4                4   \n",
       "1                 1                 5                 3                1   \n",
       "2                 4                 3                 4                4   \n",
       "3                 2                 5                 3                1   \n",
       "4                 3                 4                 4                3   \n",
       "\n",
       "   Inflight service  Cleanliness  Departure Delay in Minutes  \\\n",
       "0                 5            5                          25   \n",
       "1                 4            1                           1   \n",
       "2                 4            5                           0   \n",
       "3                 4            2                          11   \n",
       "4                 3            3                           0   \n",
       "\n",
       "   Arrival Delay in Minutes             satisfaction  \n",
       "0                      18.0  neutral or dissatisfied  \n",
       "1                       6.0  neutral or dissatisfied  \n",
       "2                       0.0                satisfied  \n",
       "3                       9.0  neutral or dissatisfied  \n",
       "4                       0.0                satisfied  \n",
       "\n",
       "[5 rows x 25 columns]"
      ]
     },
     "execution_count": 31,
     "metadata": {},
     "output_type": "execute_result"
    }
   ],
   "source": [
    "data.head()"
   ]
  },
  {
   "cell_type": "code",
   "execution_count": 32,
   "id": "1d948498-bbd1-41fb-8077-0c8798ce8398",
   "metadata": {},
   "outputs": [],
   "source": [
    "import matplotlib.pyplot as plt\n",
    "import seaborn as sns\n",
    "# Let's set the theme of plots.\n",
    "sns.set_theme()\n",
    "sns.set(rc={\"figure.dpi\":300, \"figure.figsize\":(8,6)})"
   ]
  },
  {
   "cell_type": "code",
   "execution_count": 33,
   "id": "82dd68fc-1014-4b6b-8061-86557cd819f0",
   "metadata": {},
   "outputs": [
    {
     "data": {
      "text/plain": [
       "Unnamed: 0                             0\n",
       "id                                     0\n",
       "Gender                                 0\n",
       "Customer Type                          0\n",
       "Age                                    0\n",
       "Type of Travel                         0\n",
       "Class                                  0\n",
       "Flight Distance                        0\n",
       "Inflight wifi service                  0\n",
       "Departure/Arrival time convenient      0\n",
       "Ease of Online booking                 0\n",
       "Gate location                          0\n",
       "Food and drink                         0\n",
       "Online boarding                        0\n",
       "Seat comfort                           0\n",
       "Inflight entertainment                 0\n",
       "On-board service                       0\n",
       "Leg room service                       0\n",
       "Baggage handling                       0\n",
       "Checkin service                        0\n",
       "Inflight service                       0\n",
       "Cleanliness                            0\n",
       "Departure Delay in Minutes             0\n",
       "Arrival Delay in Minutes             310\n",
       "satisfaction                           0\n",
       "dtype: int64"
      ]
     },
     "execution_count": 33,
     "metadata": {},
     "output_type": "execute_result"
    }
   ],
   "source": [
    "data.isnull().sum()"
   ]
  },
  {
   "cell_type": "code",
   "execution_count": 34,
   "id": "46b7defc-4dd1-4dc5-aa8d-71d5a43dd8e2",
   "metadata": {},
   "outputs": [],
   "source": [
    "data = data.drop(data.iloc[:,[0, 1, 23]], axis = 1)"
   ]
  },
  {
   "cell_type": "code",
   "execution_count": 35,
   "id": "36e63518-a473-4689-84eb-7662a0841b21",
   "metadata": {},
   "outputs": [
    {
     "name": "stdout",
     "output_type": "stream",
     "text": [
      "<class 'pandas.core.frame.DataFrame'>\n",
      "RangeIndex: 103904 entries, 0 to 103903\n",
      "Data columns (total 22 columns):\n",
      " #   Column                             Non-Null Count   Dtype \n",
      "---  ------                             --------------   ----- \n",
      " 0   Gender                             103904 non-null  object\n",
      " 1   Customer Type                      103904 non-null  object\n",
      " 2   Age                                103904 non-null  int64 \n",
      " 3   Type of Travel                     103904 non-null  object\n",
      " 4   Class                              103904 non-null  object\n",
      " 5   Flight Distance                    103904 non-null  int64 \n",
      " 6   Inflight wifi service              103904 non-null  int64 \n",
      " 7   Departure/Arrival time convenient  103904 non-null  int64 \n",
      " 8   Ease of Online booking             103904 non-null  int64 \n",
      " 9   Gate location                      103904 non-null  int64 \n",
      " 10  Food and drink                     103904 non-null  int64 \n",
      " 11  Online boarding                    103904 non-null  int64 \n",
      " 12  Seat comfort                       103904 non-null  int64 \n",
      " 13  Inflight entertainment             103904 non-null  int64 \n",
      " 14  On-board service                   103904 non-null  int64 \n",
      " 15  Leg room service                   103904 non-null  int64 \n",
      " 16  Baggage handling                   103904 non-null  int64 \n",
      " 17  Checkin service                    103904 non-null  int64 \n",
      " 18  Inflight service                   103904 non-null  int64 \n",
      " 19  Cleanliness                        103904 non-null  int64 \n",
      " 20  Departure Delay in Minutes         103904 non-null  int64 \n",
      " 21  satisfaction                       103904 non-null  object\n",
      "dtypes: int64(17), object(5)\n",
      "memory usage: 17.4+ MB\n"
     ]
    }
   ],
   "source": [
    "data.info()"
   ]
  },
  {
   "cell_type": "code",
   "execution_count": 36,
   "id": "1e92ac72-fa5b-430c-968b-a9484d84dd3c",
   "metadata": {},
   "outputs": [],
   "source": [
    "categorical_indexes = [1, 2, 4, 5] + list(range(7, 21))\n",
    "# data.iloc[:,categorical_indexes] = train_df.iloc[:,categorical_indexes].astype('category')"
   ]
  },
  {
   "cell_type": "code",
   "execution_count": 37,
   "id": "d56772bf-a788-42b8-925c-de7044b84b5a",
   "metadata": {},
   "outputs": [
    {
     "name": "stdout",
     "output_type": "stream",
     "text": [
      "<class 'pandas.core.frame.DataFrame'>\n",
      "RangeIndex: 103904 entries, 0 to 103903\n",
      "Data columns (total 28 columns):\n",
      " #   Column                                Non-Null Count   Dtype\n",
      "---  ------                                --------------   -----\n",
      " 0   Age                                   103904 non-null  int64\n",
      " 1   Flight Distance                       103904 non-null  int64\n",
      " 2   Inflight wifi service                 103904 non-null  int64\n",
      " 3   Departure/Arrival time convenient     103904 non-null  int64\n",
      " 4   Ease of Online booking                103904 non-null  int64\n",
      " 5   Gate location                         103904 non-null  int64\n",
      " 6   Food and drink                        103904 non-null  int64\n",
      " 7   Online boarding                       103904 non-null  int64\n",
      " 8   Seat comfort                          103904 non-null  int64\n",
      " 9   Inflight entertainment                103904 non-null  int64\n",
      " 10  On-board service                      103904 non-null  int64\n",
      " 11  Leg room service                      103904 non-null  int64\n",
      " 12  Baggage handling                      103904 non-null  int64\n",
      " 13  Checkin service                       103904 non-null  int64\n",
      " 14  Inflight service                      103904 non-null  int64\n",
      " 15  Cleanliness                           103904 non-null  int64\n",
      " 16  Departure Delay in Minutes            103904 non-null  int64\n",
      " 17  Gender_Female                         103904 non-null  uint8\n",
      " 18  Gender_Male                           103904 non-null  uint8\n",
      " 19  Customer Type_Loyal Customer          103904 non-null  uint8\n",
      " 20  Customer Type_disloyal Customer       103904 non-null  uint8\n",
      " 21  Type of Travel_Business travel        103904 non-null  uint8\n",
      " 22  Type of Travel_Personal Travel        103904 non-null  uint8\n",
      " 23  Class_Business                        103904 non-null  uint8\n",
      " 24  Class_Eco                             103904 non-null  uint8\n",
      " 25  Class_Eco Plus                        103904 non-null  uint8\n",
      " 26  satisfaction_neutral or dissatisfied  103904 non-null  uint8\n",
      " 27  satisfaction_satisfied                103904 non-null  uint8\n",
      "dtypes: int64(17), uint8(11)\n",
      "memory usage: 14.6 MB\n"
     ]
    }
   ],
   "source": [
    "data2 = pd.get_dummies(data)\n",
    "data2.info()"
   ]
  },
  {
   "cell_type": "code",
   "execution_count": 38,
   "id": "0a590c27-71c2-400d-8ebc-9bc28e0cfbcd",
   "metadata": {},
   "outputs": [
    {
     "name": "stdout",
     "output_type": "stream",
     "text": [
      "<class 'pandas.core.frame.DataFrame'>\n",
      "RangeIndex: 103904 entries, 0 to 103903\n",
      "Data columns (total 22 columns):\n",
      " #   Column                             Non-Null Count   Dtype \n",
      "---  ------                             --------------   ----- \n",
      " 0   Gender                             103904 non-null  int64 \n",
      " 1   Customer Type                      103904 non-null  int64 \n",
      " 2   Age                                103904 non-null  int64 \n",
      " 3   Type of Travel                     103904 non-null  int64 \n",
      " 4   Class                              103904 non-null  int64 \n",
      " 5   Flight Distance                    103904 non-null  int64 \n",
      " 6   Inflight wifi service              103904 non-null  int64 \n",
      " 7   Departure/Arrival time convenient  103904 non-null  int64 \n",
      " 8   Ease of Online booking             103904 non-null  int64 \n",
      " 9   Gate location                      103904 non-null  int64 \n",
      " 10  Food and drink                     103904 non-null  int64 \n",
      " 11  Online boarding                    103904 non-null  int64 \n",
      " 12  Seat comfort                       103904 non-null  int64 \n",
      " 13  Inflight entertainment             103904 non-null  int64 \n",
      " 14  On-board service                   103904 non-null  int64 \n",
      " 15  Leg room service                   103904 non-null  int64 \n",
      " 16  Baggage handling                   103904 non-null  int64 \n",
      " 17  Checkin service                    103904 non-null  int64 \n",
      " 18  Inflight service                   103904 non-null  int64 \n",
      " 19  Cleanliness                        103904 non-null  int64 \n",
      " 20  Departure Delay in Minutes         103904 non-null  int64 \n",
      " 21  satisfaction                       103904 non-null  object\n",
      "dtypes: int64(21), object(1)\n",
      "memory usage: 17.4+ MB\n"
     ]
    }
   ],
   "source": [
    "# replacing values\n",
    "data['Gender'].replace(['Female', 'Male'], [0, 1], inplace=True)\n",
    "data['Customer Type'].replace(['Loyal Customer', 'disloyal Customer'], [0, 1], inplace=True)\n",
    "data['Type of Travel'].replace(['Business travel', 'Personal Travel'], [0, 1], inplace=True)\n",
    "data['Class'].replace(['Business', 'Eco', 'Eco Plus'], [0, 1, 2], inplace=True)\n",
    "data.info()"
   ]
  },
  {
   "cell_type": "code",
   "execution_count": 11,
   "id": "8e43252c-e88a-4d7b-8135-7f2eda45b07c",
   "metadata": {},
   "outputs": [
    {
     "name": "stdout",
     "output_type": "stream",
     "text": [
      "LR: 0.874956 (0.004616)\n",
      "LDA: 0.871010 (0.003905)\n",
      "KNN: 0.756866 (0.005169)\n",
      "CART: 0.945599 (0.001928)\n",
      "NB: 0.865693 (0.003199)\n"
     ]
    },
    {
     "data": {
      "image/png": "[encoded data removed]",
      "text/plain": [
       "<Figure size 2400x1800 with 1 Axes>"
      ]
     },
     "metadata": {},
     "output_type": "display_data"
    }
   ],
   "source": [
    "from pandas import read_csv\n",
    "from matplotlib import pyplot\n",
    "from sklearn.model_selection import train_test_split\n",
    "from sklearn.model_selection import cross_val_score\n",
    "from sklearn.model_selection import StratifiedKFold\n",
    "from sklearn.linear_model import LogisticRegression\n",
    "from sklearn.tree import DecisionTreeClassifier\n",
    "from sklearn.neighbors import KNeighborsClassifier\n",
    "from sklearn.discriminant_analysis import LinearDiscriminantAnalysis\n",
    "from sklearn.naive_bayes import GaussianNB\n",
    "from sklearn.svm import SVC\n",
    "# Split-out validation dataset\n",
    "X = data.drop(\"satisfaction\", axis = 1)\n",
    "y = data[\"satisfaction\"]\n",
    "X_train, X_validation, Y_train, Y_validation = train_test_split(X, y, train_size=0.80, random_state=1, shuffle=True)\n",
    "# Spot Check Algorithms\n",
    "models = []\n",
    "models.append(('LR', LogisticRegression(solver='liblinear', multi_class='ovr')))\n",
    "models.append(('LDA', LinearDiscriminantAnalysis()))\n",
    "models.append(('KNN', KNeighborsClassifier()))\n",
    "models.append(('CART', DecisionTreeClassifier()))\n",
    "models.append(('NB', GaussianNB()))\n",
    "# evaluate each model in turn\n",
    "results = []\n",
    "names = []\n",
    "for name, model in models:\n",
    "\tkfold = StratifiedKFold(n_splits=10, random_state=1, shuffle=True)\n",
    "\tcv_results = cross_val_score(model, X_train, Y_train, cv=kfold, scoring='accuracy')\n",
    "\tresults.append(cv_results)\n",
    "\tnames.append(name)\n",
    "\tprint('%s: %f (%f)' % (name, cv_results.mean(), cv_results.std()))\n",
    "# Compare Algorithms\n",
    "pyplot.boxplot(results, labels=names)\n",
    "pyplot.title('Algorithm Comparison')\n",
    "pyplot.show()"
   ]
  },
  {
   "cell_type": "code",
   "execution_count": 39,
   "id": "83adc3a9-bc43-4e68-a5f0-b6c2107ebe2e",
   "metadata": {},
   "outputs": [
    {
     "name": "stdout",
     "output_type": "stream",
     "text": [
      "0.944660988402868\n",
      "[[11259   616]\n",
      " [  534  8372]]\n",
      "                         precision    recall  f1-score   support\n",
      "\n",
      "neutral or dissatisfied       0.95      0.95      0.95     11875\n",
      "              satisfied       0.93      0.94      0.94      8906\n",
      "\n",
      "               accuracy                           0.94     20781\n",
      "              macro avg       0.94      0.94      0.94     20781\n",
      "           weighted avg       0.94      0.94      0.94     20781\n",
      "\n"
     ]
    }
   ],
   "source": [
    "from sklearn.metrics import accuracy_score\n",
    "from sklearn.metrics import confusion_matrix\n",
    "from sklearn.metrics import classification_report\n",
    "model = DecisionTreeClassifier()\n",
    "model.fit(X_train, Y_train)\n",
    "predictions = model.predict(X_validation)\n",
    "print(accuracy_score(Y_validation, predictions))\n",
    "print(confusion_matrix(Y_validation, predictions))\n",
    "print(classification_report(Y_validation, predictions))"
   ]
  },
  {
   "cell_type": "code",
   "execution_count": 40,
   "id": "642e35f0-21f2-4633-b0c9-bb1f0956e53f",
   "metadata": {},
   "outputs": [
    {
     "name": "stdout",
     "output_type": "stream",
     "text": [
      "['satisfied' 'neutral or dissatisfied' 'neutral or dissatisfied' ...\n",
      " 'satisfied' 'neutral or dissatisfied' 'satisfied']\n"
     ]
    }
   ],
   "source": [
    "y_tahmin = model.predict(X_validation)\n",
    "print(y_tahmin)"
   ]
  },
  {
   "cell_type": "code",
   "execution_count": 49,
   "id": "f4cc4327-a141-478a-ae85-2fe72d6c20aa",
   "metadata": {},
   "outputs": [
    {
     "name": "stdout",
     "output_type": "stream",
     "text": [
      "0.944660988402868\n"
     ]
    }
   ],
   "source": [
    "print(np.mean(y_tahmin==Y_validation))"
   ]
  },
  {
   "cell_type": "code",
   "execution_count": 41,
   "id": "f3105574-fb18-4178-8300-56310178afd0",
   "metadata": {},
   "outputs": [],
   "source": [
    "test = pd.read_csv('test.csv')"
   ]
  },
  {
   "cell_type": "code",
   "execution_count": 42,
   "id": "2835a64e-b457-4c69-89a8-f0bdf39b2958",
   "metadata": {},
   "outputs": [],
   "source": [
    "test = test.drop(test.iloc[:,[0, 1, 23]], axis = 1)"
   ]
  },
  {
   "cell_type": "code",
   "execution_count": 43,
   "id": "47975426-b549-48d6-aa67-e9ef9f7d9a30",
   "metadata": {},
   "outputs": [
    {
     "name": "stdout",
     "output_type": "stream",
     "text": [
      "<class 'pandas.core.frame.DataFrame'>\n",
      "RangeIndex: 25976 entries, 0 to 25975\n",
      "Data columns (total 22 columns):\n",
      " #   Column                             Non-Null Count  Dtype \n",
      "---  ------                             --------------  ----- \n",
      " 0   Gender                             25976 non-null  int64 \n",
      " 1   Customer Type                      25976 non-null  int64 \n",
      " 2   Age                                25976 non-null  int64 \n",
      " 3   Type of Travel                     25976 non-null  int64 \n",
      " 4   Class                              25976 non-null  int64 \n",
      " 5   Flight Distance                    25976 non-null  int64 \n",
      " 6   Inflight wifi service              25976 non-null  int64 \n",
      " 7   Departure/Arrival time convenient  25976 non-null  int64 \n",
      " 8   Ease of Online booking             25976 non-null  int64 \n",
      " 9   Gate location                      25976 non-null  int64 \n",
      " 10  Food and drink                     25976 non-null  int64 \n",
      " 11  Online boarding                    25976 non-null  int64 \n",
      " 12  Seat comfort                       25976 non-null  int64 \n",
      " 13  Inflight entertainment             25976 non-null  int64 \n",
      " 14  On-board service                   25976 non-null  int64 \n",
      " 15  Leg room service                   25976 non-null  int64 \n",
      " 16  Baggage handling                   25976 non-null  int64 \n",
      " 17  Checkin service                    25976 non-null  int64 \n",
      " 18  Inflight service                   25976 non-null  int64 \n",
      " 19  Cleanliness                        25976 non-null  int64 \n",
      " 20  Departure Delay in Minutes         25976 non-null  int64 \n",
      " 21  satisfaction                       25976 non-null  object\n",
      "dtypes: int64(21), object(1)\n",
      "memory usage: 4.4+ MB\n"
     ]
    }
   ],
   "source": [
    "# replacing values\n",
    "test['Gender'].replace(['Female', 'Male'], [0, 1], inplace=True)\n",
    "test['Customer Type'].replace(['Loyal Customer', 'disloyal Customer'], [0, 1], inplace=True)\n",
    "test['Type of Travel'].replace(['Business travel', 'Personal Travel'], [0, 1], inplace=True)\n",
    "test['Class'].replace(['Business', 'Eco', 'Eco Plus'], [0, 1, 2], inplace=True)\n",
    "test.info()"
   ]
  },
  {
   "cell_type": "code",
   "execution_count": 44,
   "id": "9c95c756-bf40-4ec2-be62-79cfb085c5c0",
   "metadata": {},
   "outputs": [],
   "source": [
    "X_test = test.drop(\"satisfaction\", axis = 1)\n",
    "y_test = test[\"satisfaction\"]"
   ]
  },
  {
   "cell_type": "code",
   "execution_count": 45,
   "id": "8be3e3d8-7089-4697-ae6a-9871dcc32c0e",
   "metadata": {},
   "outputs": [
    {
     "name": "stdout",
     "output_type": "stream",
     "text": [
      "['satisfied' 'satisfied' 'neutral or dissatisfied' ...\n",
      " 'neutral or dissatisfied' 'satisfied' 'neutral or dissatisfied']\n"
     ]
    }
   ],
   "source": [
    "y_test_tahmin = model.predict(X_test)\n",
    "print(y_test_tahmin)"
   ]
  },
  {
   "cell_type": "code",
   "execution_count": 46,
   "id": "19f6fcac-3ec4-474e-a6ea-7eb611b1022c",
   "metadata": {},
   "outputs": [
    {
     "name": "stdout",
     "output_type": "stream",
     "text": [
      "0.9446027101940253\n"
     ]
    }
   ],
   "source": [
    "print(np.mean(y_test_tahmin==y_test))"
   ]
  },
  {
   "cell_type": "code",
   "execution_count": null,
   "id": "397068ca-f8b7-447a-8fb6-5ec4006fa85c",
   "metadata": {},
   "outputs": [],
   "source": []
  }
 ],
 "metadata": {
  "kernelspec": {
   "display_name": "Python 3 (ipykernel)",
   "language": "python",
   "name": "python3"
  },
  "language_info": {
   "codemirror_mode": {
    "name": "ipython",
    "version": 3
   },
   "file_extension": ".py",
   "mimetype": "text/x-python",
   "name": "python",
   "nbconvert_exporter": "python",
   "pygments_lexer": "ipython3",
   "version": "3.10.7"
  }
 },
 "nbformat": 4,
 "nbformat_minor": 5
}
